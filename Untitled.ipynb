{
 "cells": [
  {
   "cell_type": "code",
   "execution_count": 1,
   "metadata": {},
   "outputs": [
    {
     "name": "stderr",
     "output_type": "stream",
     "text": [
      "C:\\ProgramData\\Anaconda3\\lib\\site-packages\\h5py\\__init__.py:36: FutureWarning: Conversion of the second argument of issubdtype from `float` to `np.floating` is deprecated. In future, it will be treated as `np.float64 == np.dtype(float).type`.\n",
      "  from ._conv import register_converters as _register_converters\n",
      "Using TensorFlow backend.\n"
     ]
    }
   ],
   "source": [
    "import numpy as np\n",
    "import glob\n",
    "import cv2\n",
    "import tensorflow as tf\n",
    "import random\n",
    "np.random.seed(123)\n",
    "\n",
    "from keras.models import Sequential, Model\n",
    "from keras.layers import Dense, Dropout, Activation, Flatten\n",
    "from keras.layers import Conv2D, MaxPooling2D\n",
    "from keras.layers import Input, concatenate\n",
    "from keras.utils import np_utils\n",
    "from keras.layers.normalization import BatchNormalization\n",
    "from keras.preprocessing.image import ImageDataGenerator\n",
    "from keras.preprocessing import image"
   ]
  },
  {
   "cell_type": "code",
   "execution_count": 2,
   "metadata": {},
   "outputs": [],
   "source": [
    "path = \"D:\\\\Work\\\\Signature Verification\\\\data\\\\OfflineSignatures\\\\\"\n",
    "chinese_path = \"Chinese\\\\TrainingSet\\\\\"\n",
    "dutch_path = \"Dutch\\\\TrainingSet\\\\\"\n",
    "forged_path = \"Offline Forgeries\\\\\"\n",
    "genuine_path = \"Offline Genuine\\\\\"\n",
    "genuine_sig = {}\n",
    "forged_sig = {}\n",
    "batch_size = 32"
   ]
  },
  {
   "cell_type": "code",
   "execution_count": 3,
   "metadata": {},
   "outputs": [],
   "source": [
    "def load_data(path, X=[]):\n",
    "    images = glob.glob(path+\"*.png\")\n",
    "    sig_dict = {}\n",
    "    for image in images:\n",
    "        name = image.split(\"\\\\\")[-1].split(\"_\")[0]\n",
    "        name = name[-3:]\n",
    "        temp_image = cv2.imread(image)\n",
    "        temp_image = cv2.resize(temp_image, (250, 100))\n",
    "        if name not in sig_dict:\n",
    "            sig_dict[name] = []\n",
    "        sig_dict[name].append(temp_image)\n",
    "    return sig_dict"
   ]
  },
  {
   "cell_type": "code",
   "execution_count": 4,
   "metadata": {},
   "outputs": [],
   "source": [
    "in_dims = (100, 250, 3)\n",
    "out_dims = 128"
   ]
  },
  {
   "cell_type": "code",
   "execution_count": 5,
   "metadata": {},
   "outputs": [],
   "source": [
    "def triplet_loss(y_true, y_pred, alpha=0.3):\n",
    "    anchor_en, positive_en, negative_en = y_pred[0], y_pred[1], y_pred[2]\n",
    "    \n",
    "    pos_dist = tf.reduce_sum(tf.square(tf.subtract(anchor_en, positive_en)), axis=-1)\n",
    "    neg_dist = tf.reduce_sum(tf.square(tf.subtract(anchor_en, negative_en)), axis=-1)\n",
    "\n",
    "    basic_loss = tf.add(tf.subtract(pos_dist, neg_dist), alpha)\n",
    "    loss = tf.reduce_sum(tf.maximum(basic_loss, 0.0))\n",
    "\n",
    "    return loss"
   ]
  },
  {
   "cell_type": "code",
   "execution_count": 6,
   "metadata": {},
   "outputs": [],
   "source": [
    "model = Sequential()\n",
    "model.add(Conv2D(32, (5, 11), activation=\"relu\", input_shape=in_dims))\n",
    "#print(model.output_shape)\n",
    "model.add(MaxPooling2D(pool_size=(2, 3)))\n",
    "#print(model.output_shape)\n",
    "model.add(Conv2D(64, (3, 5), activation=\"relu\", input_shape=in_dims))\n",
    "#print(model.output_shape)\n",
    "model.add(MaxPooling2D(pool_size=(2, 2)))\n",
    "#print(model.output_shape)\n",
    "model.add(Dropout(0.25))\n",
    "model.add(Flatten())\n",
    "#print(model.output_shape)\n",
    "model.add(Dense(512, activation=\"relu\"))\n",
    "#print(model.output_shape)\n",
    "model.add(Dropout(0.5))\n",
    "model.add(Dense(out_dims))"
   ]
  },
  {
   "cell_type": "code",
   "execution_count": 7,
   "metadata": {},
   "outputs": [],
   "source": [
    "X = Input(shape=in_dims)\n",
    "Y = model(X)\n",
    "model = Model(inputs=X, outputs=Y)"
   ]
  },
  {
   "cell_type": "code",
   "execution_count": 8,
   "metadata": {},
   "outputs": [
    {
     "name": "stdout",
     "output_type": "stream",
     "text": [
      "_________________________________________________________________\n",
      "Layer (type)                 Output Shape              Param #   \n",
      "=================================================================\n",
      "input_1 (InputLayer)         (None, 100, 250, 3)       0         \n",
      "_________________________________________________________________\n",
      "sequential_1 (Sequential)    (None, 128)               28741504  \n",
      "=================================================================\n",
      "Total params: 28,741,504\n",
      "Trainable params: 28,741,504\n",
      "Non-trainable params: 0\n",
      "_________________________________________________________________\n"
     ]
    }
   ],
   "source": [
    "model.summary()"
   ]
  },
  {
   "cell_type": "code",
   "execution_count": 9,
   "metadata": {},
   "outputs": [],
   "source": [
    "model.load_weights(\"D:\\\\Work\\\\Signature Verification\\\\model.h5\")"
   ]
  },
  {
   "cell_type": "code",
   "execution_count": 10,
   "metadata": {},
   "outputs": [],
   "source": [
    "X_test = load_data(\"D:\\\\Work\\\\Signature Verification\\\\\")"
   ]
  },
  {
   "cell_type": "code",
   "execution_count": null,
   "metadata": {},
   "outputs": [],
   "source": [
    "for key in X_test.keys():\n",
    "    model.predict(np.array(X_test[key]))"
   ]
  },
  {
   "cell_type": "code",
   "execution_count": null,
   "metadata": {},
   "outputs": [],
   "source": []
  }
 ],
 "metadata": {
  "kernelspec": {
   "display_name": "Python 3",
   "language": "python",
   "name": "python3"
  },
  "language_info": {
   "codemirror_mode": {
    "name": "ipython",
    "version": 3
   },
   "file_extension": ".py",
   "mimetype": "text/x-python",
   "name": "python",
   "nbconvert_exporter": "python",
   "pygments_lexer": "ipython3",
   "version": "3.6.5"
  }
 },
 "nbformat": 4,
 "nbformat_minor": 2
}
